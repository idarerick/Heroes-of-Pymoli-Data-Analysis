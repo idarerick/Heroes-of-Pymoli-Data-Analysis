{
 "cells": [
  {
   "cell_type": "markdown",
   "metadata": {},
   "source": [
    "# ![Fantasy](Images/Fantasy.jpg)\n",
    "\n",
    "Congratulations! After a lot of hard work in the data munging mines, you've landed a job as Lead Analyst for an independent gaming company. You've been assigned the task of analyzing the data for their most recent fantasy game Heroes of Pymoli.\n",
    "\n",
    "Like many others in its genre, the game is free-to-play, but players are encouraged to purchase optional items that enhance their playing experience. As a first task, the company would like you to generate a report that breaks down the game's purchasing data into meaningful insights."
   ]
  },
  {
   "cell_type": "code",
   "execution_count": 1,
   "metadata": {},
   "outputs": [],
   "source": [
    "# Dependencies and Setup\n",
    "import pandas as pd\n",
    "import numpy as np"
   ]
  },
  {
   "cell_type": "code",
   "execution_count": 2,
   "metadata": {},
   "outputs": [],
   "source": [
    "#Raw data file\n",
    "csvfile = \"Resources/purchase_data.csv\""
   ]
  },
  {
   "cell_type": "code",
   "execution_count": 3,
   "metadata": {
    "scrolled": true
   },
   "outputs": [
    {
     "data": {
      "text/html": [
       "<div>\n",
       "<style scoped>\n",
       "    .dataframe tbody tr th:only-of-type {\n",
       "        vertical-align: middle;\n",
       "    }\n",
       "\n",
       "    .dataframe tbody tr th {\n",
       "        vertical-align: top;\n",
       "    }\n",
       "\n",
       "    .dataframe thead th {\n",
       "        text-align: right;\n",
       "    }\n",
       "</style>\n",
       "<table border=\"1\" class=\"dataframe\">\n",
       "  <thead>\n",
       "    <tr style=\"text-align: right;\">\n",
       "      <th></th>\n",
       "      <th>Purchase ID</th>\n",
       "      <th>SN</th>\n",
       "      <th>Age</th>\n",
       "      <th>Gender</th>\n",
       "      <th>Item ID</th>\n",
       "      <th>Item Name</th>\n",
       "      <th>Price</th>\n",
       "    </tr>\n",
       "  </thead>\n",
       "  <tbody>\n",
       "    <tr>\n",
       "      <th>0</th>\n",
       "      <td>0</td>\n",
       "      <td>Lisim78</td>\n",
       "      <td>20.0</td>\n",
       "      <td>Male</td>\n",
       "      <td>108.0</td>\n",
       "      <td>Extraction, Quickblade Of Trembling Hands</td>\n",
       "      <td>3.53</td>\n",
       "    </tr>\n",
       "    <tr>\n",
       "      <th>1</th>\n",
       "      <td>1</td>\n",
       "      <td>Lisovynya38</td>\n",
       "      <td>40.0</td>\n",
       "      <td>Male</td>\n",
       "      <td>143.0</td>\n",
       "      <td>Frenzied Scimitar</td>\n",
       "      <td>1.56</td>\n",
       "    </tr>\n",
       "    <tr>\n",
       "      <th>2</th>\n",
       "      <td>2</td>\n",
       "      <td>Ithergue48</td>\n",
       "      <td>24.0</td>\n",
       "      <td>Male</td>\n",
       "      <td>92.0</td>\n",
       "      <td>Final Critic</td>\n",
       "      <td>4.88</td>\n",
       "    </tr>\n",
       "    <tr>\n",
       "      <th>3</th>\n",
       "      <td>3</td>\n",
       "      <td>Chamassasya86</td>\n",
       "      <td>24.0</td>\n",
       "      <td>Male</td>\n",
       "      <td>100.0</td>\n",
       "      <td>Blindscythe</td>\n",
       "      <td>3.27</td>\n",
       "    </tr>\n",
       "    <tr>\n",
       "      <th>4</th>\n",
       "      <td>4</td>\n",
       "      <td>Iskosia90</td>\n",
       "      <td>23.0</td>\n",
       "      <td>Male</td>\n",
       "      <td>131.0</td>\n",
       "      <td>Fury</td>\n",
       "      <td>1.44</td>\n",
       "    </tr>\n",
       "  </tbody>\n",
       "</table>\n",
       "</div>"
      ],
      "text/plain": [
       "  Purchase ID             SN   Age Gender  Item ID  \\\n",
       "0           0        Lisim78  20.0   Male    108.0   \n",
       "1           1    Lisovynya38  40.0   Male    143.0   \n",
       "2           2     Ithergue48  24.0   Male     92.0   \n",
       "3           3  Chamassasya86  24.0   Male    100.0   \n",
       "4           4      Iskosia90  23.0   Male    131.0   \n",
       "\n",
       "                                   Item Name  Price  \n",
       "0  Extraction, Quickblade Of Trembling Hands   3.53  \n",
       "1                          Frenzied Scimitar   1.56  \n",
       "2                               Final Critic   4.88  \n",
       "3                                Blindscythe   3.27  \n",
       "4                                       Fury   1.44  "
      ]
     },
     "execution_count": 3,
     "metadata": {},
     "output_type": "execute_result"
    }
   ],
   "source": [
    "#Read purchase data csv file and store into pandas data frame\n",
    "purchase_df = pd.read_csv(csvfile)\n",
    "purchase_df.head()"
   ]
  },
  {
   "cell_type": "markdown",
   "metadata": {},
   "source": [
    "## Player Count\n",
    "\n",
    "* Total Number of Players\n"
   ]
  },
  {
   "cell_type": "code",
   "execution_count": 4,
   "metadata": {},
   "outputs": [
    {
     "data": {
      "text/html": [
       "<div>\n",
       "<style scoped>\n",
       "    .dataframe tbody tr th:only-of-type {\n",
       "        vertical-align: middle;\n",
       "    }\n",
       "\n",
       "    .dataframe tbody tr th {\n",
       "        vertical-align: top;\n",
       "    }\n",
       "\n",
       "    .dataframe thead th {\n",
       "        text-align: right;\n",
       "    }\n",
       "</style>\n",
       "<table border=\"1\" class=\"dataframe\">\n",
       "  <thead>\n",
       "    <tr style=\"text-align: right;\">\n",
       "      <th></th>\n",
       "      <th>Total Number of Players</th>\n",
       "    </tr>\n",
       "  </thead>\n",
       "  <tbody>\n",
       "    <tr>\n",
       "      <th>0</th>\n",
       "      <td>577</td>\n",
       "    </tr>\n",
       "  </tbody>\n",
       "</table>\n",
       "</div>"
      ],
      "text/plain": [
       "   Total Number of Players\n",
       "0                      577"
      ]
     },
     "execution_count": 4,
     "metadata": {},
     "output_type": "execute_result"
    }
   ],
   "source": [
    "#Count total number of players (assuming one SN per player)\n",
    "#there should be only one player per SN\n",
    "player_count = len(purchase_df[\"SN\"].unique())\n",
    "player_count_summary_df = pd.DataFrame({\"Total Number of Players\": [player_count]})\n",
    "player_count_summary_df"
   ]
  },
  {
   "cell_type": "markdown",
   "metadata": {},
   "source": [
    "## Purchasing Analysis (Total)\n",
    "\n",
    "* Number of Unique Items\n",
    "* Average Purchase Price\n",
    "* Total Number of Purchases\n",
    "* Total Revenue"
   ]
  },
  {
   "cell_type": "code",
   "execution_count": 5,
   "metadata": {},
   "outputs": [
    {
     "data": {
      "text/plain": [
       "183"
      ]
     },
     "execution_count": 5,
     "metadata": {},
     "output_type": "execute_result"
    }
   ],
   "source": [
    "#count number of unique items\n",
    "uniqueitems = len(purchase_df[\"Item ID\"].value_counts())\n",
    "uniqueitems"
   ]
  },
  {
   "cell_type": "code",
   "execution_count": 6,
   "metadata": {
    "scrolled": true
   },
   "outputs": [
    {
     "data": {
      "text/plain": [
       "3.05"
      ]
     },
     "execution_count": 6,
     "metadata": {},
     "output_type": "execute_result"
    }
   ],
   "source": [
    "#average price\n",
    "avg_price = round(purchase_df[\"Price\"].mean(),2)\n",
    "avg_price"
   ]
  },
  {
   "cell_type": "code",
   "execution_count": 7,
   "metadata": {},
   "outputs": [
    {
     "data": {
      "text/plain": [
       "808"
      ]
     },
     "execution_count": 7,
     "metadata": {},
     "output_type": "execute_result"
    }
   ],
   "source": [
    "#number of purchases\n",
    "purchase_number = purchase_df[\"Purchase ID\"].count()\n",
    "purchase_number"
   ]
  },
  {
   "cell_type": "code",
   "execution_count": 8,
   "metadata": {},
   "outputs": [
    {
     "data": {
      "text/plain": [
       "2399.7700000000004"
      ]
     },
     "execution_count": 8,
     "metadata": {},
     "output_type": "execute_result"
    }
   ],
   "source": [
    "#no need to change to float\n",
    "#total revenue\n",
    "total_rev = purchase_df[\"Price\"].sum()\n",
    "total_rev"
   ]
  },
  {
   "cell_type": "code",
   "execution_count": 9,
   "metadata": {
    "scrolled": true
   },
   "outputs": [
    {
     "data": {
      "text/html": [
       "<style  type=\"text/css\" >\n",
       "</style>  \n",
       "<table id=\"T_94c88b06_754c_11ea_8784_240a641cf6e6\" > \n",
       "<thead>    <tr> \n",
       "        <th class=\"blank level0\" ></th> \n",
       "        <th class=\"col_heading level0 col0\" >Number of Unique Items</th> \n",
       "        <th class=\"col_heading level0 col1\" >Average Purchase Price</th> \n",
       "        <th class=\"col_heading level0 col2\" >Number of Purchases</th> \n",
       "        <th class=\"col_heading level0 col3\" >Total Revenue</th> \n",
       "    </tr></thead> \n",
       "<tbody>    <tr> \n",
       "        <th id=\"T_94c88b06_754c_11ea_8784_240a641cf6e6level0_row0\" class=\"row_heading level0 row0\" >0</th> \n",
       "        <td id=\"T_94c88b06_754c_11ea_8784_240a641cf6e6row0_col0\" class=\"data row0 col0\" >183</td> \n",
       "        <td id=\"T_94c88b06_754c_11ea_8784_240a641cf6e6row0_col1\" class=\"data row0 col1\" >$3.05</td> \n",
       "        <td id=\"T_94c88b06_754c_11ea_8784_240a641cf6e6row0_col2\" class=\"data row0 col2\" >808</td> \n",
       "        <td id=\"T_94c88b06_754c_11ea_8784_240a641cf6e6row0_col3\" class=\"data row0 col3\" >$2,399.77</td> \n",
       "    </tr></tbody> \n",
       "</table> "
      ],
      "text/plain": [
       "<pandas.io.formats.style.Styler at 0x2568e1b21d0>"
      ]
     },
     "execution_count": 9,
     "metadata": {},
     "output_type": "execute_result"
    }
   ],
   "source": [
    "#Summary Data Frame\n",
    "uniqueitems_summary_df = pd.DataFrame({\"Number of Unique Items\": [uniqueitems],\n",
    "                          \"Average Purchase Price\": [avg_price],\n",
    "                          \"Number of Purchases\": [purchase_number],\n",
    "                          \"Total Revenue\": [total_rev]})\n",
    "uniqueitems_summary_df.style.format({'Average Purchase Price':'${:,.2f}',\n",
    "                                     'Total Revenue':'${:,.2f}'})"
   ]
  },
  {
   "cell_type": "markdown",
   "metadata": {},
   "source": [
    "## Gender Demographics\n",
    "\n",
    "* Percentage and Count of Male Players\n",
    "* Percentage and Count of Female Players\n",
    "* Percentage and Count of Other / Non-Disclosed"
   ]
  },
  {
   "cell_type": "code",
   "execution_count": 10,
   "metadata": {},
   "outputs": [
    {
     "data": {
      "text/html": [
       "<div>\n",
       "<style scoped>\n",
       "    .dataframe tbody tr th:only-of-type {\n",
       "        vertical-align: middle;\n",
       "    }\n",
       "\n",
       "    .dataframe tbody tr th {\n",
       "        vertical-align: top;\n",
       "    }\n",
       "\n",
       "    .dataframe thead th {\n",
       "        text-align: right;\n",
       "    }\n",
       "</style>\n",
       "<table border=\"1\" class=\"dataframe\">\n",
       "  <thead>\n",
       "    <tr style=\"text-align: right;\">\n",
       "      <th></th>\n",
       "      <th>Purchase ID</th>\n",
       "      <th>SN</th>\n",
       "      <th>Age</th>\n",
       "      <th>Item ID</th>\n",
       "      <th>Item Name</th>\n",
       "      <th>Price</th>\n",
       "    </tr>\n",
       "    <tr>\n",
       "      <th>Gender</th>\n",
       "      <th></th>\n",
       "      <th></th>\n",
       "      <th></th>\n",
       "      <th></th>\n",
       "      <th></th>\n",
       "      <th></th>\n",
       "    </tr>\n",
       "  </thead>\n",
       "  <tbody>\n",
       "    <tr>\n",
       "      <th>Male</th>\n",
       "      <td>0</td>\n",
       "      <td>Lisim78</td>\n",
       "      <td>20.0</td>\n",
       "      <td>108.0</td>\n",
       "      <td>Extraction, Quickblade Of Trembling Hands</td>\n",
       "      <td>3.53</td>\n",
       "    </tr>\n",
       "    <tr>\n",
       "      <th>Male</th>\n",
       "      <td>1</td>\n",
       "      <td>Lisovynya38</td>\n",
       "      <td>40.0</td>\n",
       "      <td>143.0</td>\n",
       "      <td>Frenzied Scimitar</td>\n",
       "      <td>1.56</td>\n",
       "    </tr>\n",
       "    <tr>\n",
       "      <th>Male</th>\n",
       "      <td>2</td>\n",
       "      <td>Ithergue48</td>\n",
       "      <td>24.0</td>\n",
       "      <td>92.0</td>\n",
       "      <td>Final Critic</td>\n",
       "      <td>4.88</td>\n",
       "    </tr>\n",
       "    <tr>\n",
       "      <th>Male</th>\n",
       "      <td>3</td>\n",
       "      <td>Chamassasya86</td>\n",
       "      <td>24.0</td>\n",
       "      <td>100.0</td>\n",
       "      <td>Blindscythe</td>\n",
       "      <td>3.27</td>\n",
       "    </tr>\n",
       "    <tr>\n",
       "      <th>Male</th>\n",
       "      <td>4</td>\n",
       "      <td>Iskosia90</td>\n",
       "      <td>23.0</td>\n",
       "      <td>131.0</td>\n",
       "      <td>Fury</td>\n",
       "      <td>1.44</td>\n",
       "    </tr>\n",
       "  </tbody>\n",
       "</table>\n",
       "</div>"
      ],
      "text/plain": [
       "       Purchase ID             SN   Age  Item ID  \\\n",
       "Gender                                             \n",
       "Male             0        Lisim78  20.0    108.0   \n",
       "Male             1    Lisovynya38  40.0    143.0   \n",
       "Male             2     Ithergue48  24.0     92.0   \n",
       "Male             3  Chamassasya86  24.0    100.0   \n",
       "Male             4      Iskosia90  23.0    131.0   \n",
       "\n",
       "                                        Item Name  Price  \n",
       "Gender                                                    \n",
       "Male    Extraction, Quickblade Of Trembling Hands   3.53  \n",
       "Male                            Frenzied Scimitar   1.56  \n",
       "Male                                 Final Critic   4.88  \n",
       "Male                                  Blindscythe   3.27  \n",
       "Male                                         Fury   1.44  "
      ]
     },
     "execution_count": 10,
     "metadata": {},
     "output_type": "execute_result"
    }
   ],
   "source": [
    "#set index\n",
    "id_index = purchase_df.set_index(\"Gender\")\n",
    "#print for verification\n",
    "id_index.head()"
   ]
  },
  {
   "cell_type": "code",
   "execution_count": 11,
   "metadata": {},
   "outputs": [
    {
     "data": {
      "text/html": [
       "<div>\n",
       "<style scoped>\n",
       "    .dataframe tbody tr th:only-of-type {\n",
       "        vertical-align: middle;\n",
       "    }\n",
       "\n",
       "    .dataframe tbody tr th {\n",
       "        vertical-align: top;\n",
       "    }\n",
       "\n",
       "    .dataframe thead th {\n",
       "        text-align: right;\n",
       "    }\n",
       "</style>\n",
       "<table border=\"1\" class=\"dataframe\">\n",
       "  <thead>\n",
       "    <tr style=\"text-align: right;\">\n",
       "      <th></th>\n",
       "      <th>Count of Male Players</th>\n",
       "      <th>Percentage of Male Players</th>\n",
       "    </tr>\n",
       "  </thead>\n",
       "  <tbody>\n",
       "    <tr>\n",
       "      <th>0</th>\n",
       "      <td>484</td>\n",
       "      <td>83.88</td>\n",
       "    </tr>\n",
       "  </tbody>\n",
       "</table>\n",
       "</div>"
      ],
      "text/plain": [
       "   Count of Male Players  Percentage of Male Players\n",
       "0                    484                       83.88"
      ]
     },
     "execution_count": 11,
     "metadata": {},
     "output_type": "execute_result"
    }
   ],
   "source": [
    "#find the count and percentage of males using loc\n",
    "male_count = len(id_index.loc[\"Male\", \"SN\"].unique())\n",
    "#male_count\n",
    "male_percent = round((male_count/player_count*100),2)\n",
    "#male_percent\n",
    "\n",
    "male_players = pd.DataFrame({\"Count of Male Players\": [male_count],\n",
    "                             \"Percentage of Male Players\": [male_percent]})\n",
    "male_players"
   ]
  },
  {
   "cell_type": "code",
   "execution_count": 12,
   "metadata": {},
   "outputs": [
    {
     "data": {
      "text/html": [
       "<div>\n",
       "<style scoped>\n",
       "    .dataframe tbody tr th:only-of-type {\n",
       "        vertical-align: middle;\n",
       "    }\n",
       "\n",
       "    .dataframe tbody tr th {\n",
       "        vertical-align: top;\n",
       "    }\n",
       "\n",
       "    .dataframe thead th {\n",
       "        text-align: right;\n",
       "    }\n",
       "</style>\n",
       "<table border=\"1\" class=\"dataframe\">\n",
       "  <thead>\n",
       "    <tr style=\"text-align: right;\">\n",
       "      <th></th>\n",
       "      <th>Count of Female Players</th>\n",
       "      <th>Percentage of Female Players</th>\n",
       "    </tr>\n",
       "  </thead>\n",
       "  <tbody>\n",
       "    <tr>\n",
       "      <th>0</th>\n",
       "      <td>81</td>\n",
       "      <td>14.04</td>\n",
       "    </tr>\n",
       "  </tbody>\n",
       "</table>\n",
       "</div>"
      ],
      "text/plain": [
       "   Count of Female Players  Percentage of Female Players\n",
       "0                       81                         14.04"
      ]
     },
     "execution_count": 12,
     "metadata": {},
     "output_type": "execute_result"
    }
   ],
   "source": [
    "#find the count and percentage of females using loc\n",
    "female_count = len(id_index.loc[\"Female\", \"SN\"].unique())\n",
    "#female_count\n",
    "female_percent = round((female_count/player_count*100),2)\n",
    "#female_percent\n",
    "\n",
    "female_players = pd.DataFrame({\"Count of Female Players\": [female_count],\n",
    "                             \"Percentage of Female Players\": [female_percent]})\n",
    "female_players"
   ]
  },
  {
   "cell_type": "code",
   "execution_count": 13,
   "metadata": {
    "scrolled": true
   },
   "outputs": [
    {
     "data": {
      "text/html": [
       "<div>\n",
       "<style scoped>\n",
       "    .dataframe tbody tr th:only-of-type {\n",
       "        vertical-align: middle;\n",
       "    }\n",
       "\n",
       "    .dataframe tbody tr th {\n",
       "        vertical-align: top;\n",
       "    }\n",
       "\n",
       "    .dataframe thead th {\n",
       "        text-align: right;\n",
       "    }\n",
       "</style>\n",
       "<table border=\"1\" class=\"dataframe\">\n",
       "  <thead>\n",
       "    <tr style=\"text-align: right;\">\n",
       "      <th></th>\n",
       "      <th>Count of Other/Non-Disclosed Players</th>\n",
       "      <th>Percentage of Other/Non-Disclosed Players</th>\n",
       "    </tr>\n",
       "  </thead>\n",
       "  <tbody>\n",
       "    <tr>\n",
       "      <th>0</th>\n",
       "      <td>11</td>\n",
       "      <td>1.91</td>\n",
       "    </tr>\n",
       "  </tbody>\n",
       "</table>\n",
       "</div>"
      ],
      "text/plain": [
       "   Count of Other/Non-Disclosed Players  \\\n",
       "0                                    11   \n",
       "\n",
       "   Percentage of Other/Non-Disclosed Players  \n",
       "0                                       1.91  "
      ]
     },
     "execution_count": 13,
     "metadata": {},
     "output_type": "execute_result"
    }
   ],
   "source": [
    "#find the count and percentage of other/non-disclosed using loc\n",
    "other_count = len(id_index.loc[\"Other / Non-Disclosed\", \"SN\"].unique())\n",
    "#other_count\n",
    "other_percent = round((other_count/player_count*100),2)\n",
    "other_percent\n",
    "\n",
    "other_players = pd.DataFrame({\"Count of Other/Non-Disclosed Players\": [other_count],\n",
    "                             \"Percentage of Other/Non-Disclosed Players\": [other_percent]})\n",
    "other_players"
   ]
  },
  {
   "cell_type": "code",
   "execution_count": 14,
   "metadata": {},
   "outputs": [
    {
     "data": {
      "text/html": [
       "<div>\n",
       "<style scoped>\n",
       "    .dataframe tbody tr th:only-of-type {\n",
       "        vertical-align: middle;\n",
       "    }\n",
       "\n",
       "    .dataframe tbody tr th {\n",
       "        vertical-align: top;\n",
       "    }\n",
       "\n",
       "    .dataframe thead th {\n",
       "        text-align: right;\n",
       "    }\n",
       "</style>\n",
       "<table border=\"1\" class=\"dataframe\">\n",
       "  <thead>\n",
       "    <tr style=\"text-align: right;\">\n",
       "      <th></th>\n",
       "      <th>Count</th>\n",
       "      <th>Percentage</th>\n",
       "    </tr>\n",
       "  </thead>\n",
       "  <tbody>\n",
       "    <tr>\n",
       "      <th>Male</th>\n",
       "      <td>484</td>\n",
       "      <td>83.88</td>\n",
       "    </tr>\n",
       "    <tr>\n",
       "      <th>Female</th>\n",
       "      <td>81</td>\n",
       "      <td>14.04</td>\n",
       "    </tr>\n",
       "    <tr>\n",
       "      <th>Other / Non-Disclosed</th>\n",
       "      <td>11</td>\n",
       "      <td>1.91</td>\n",
       "    </tr>\n",
       "  </tbody>\n",
       "</table>\n",
       "</div>"
      ],
      "text/plain": [
       "                       Count  Percentage\n",
       "Male                     484       83.88\n",
       "Female                    81       14.04\n",
       "Other / Non-Disclosed     11        1.91"
      ]
     },
     "execution_count": 14,
     "metadata": {},
     "output_type": "execute_result"
    }
   ],
   "source": [
    "gender_demographics_df = pd.DataFrame(\n",
    "    data = {'Count': [male_count, female_count, other_count],\n",
    "           'Percentage': [male_percent, female_percent, other_percent]},\n",
    "    index = ['Male', 'Female', 'Other / Non-Disclosed'])\n",
    "\n",
    "gender_demographics_df"
   ]
  },
  {
   "cell_type": "markdown",
   "metadata": {},
   "source": [
    "## Purchasing Analysis (Gender)\n",
    "\n",
    "* The below each broken by gender\n",
    "  * Purchase Count\n",
    "  * Average Purchase Price\n",
    "  * Total Purchase Value\n",
    "  * Average Purchase Total per Person by Gender"
   ]
  },
  {
   "cell_type": "code",
   "execution_count": 15,
   "metadata": {},
   "outputs": [
    {
     "data": {
      "text/plain": [
       "4.1"
      ]
     },
     "execution_count": 15,
     "metadata": {},
     "output_type": "execute_result"
    }
   ],
   "source": [
    "#purchasing analysis of males\n",
    "male_purchasecount = id_index.loc[\"Male\", \"Purchase ID\"].count()\n",
    "#male_purchasecount\n",
    "\n",
    "male_avgpurchaseprice = round(id_index.loc[\"Male\", \"Price\"].mean(),2)\n",
    "#male_avgpurchaseprice\n",
    "\n",
    "male_total = id_index.loc[\"Male\", \"Price\"].sum()\n",
    "#male_total\n",
    "\n",
    "avg_male_total = round((male_total/male_count),2)\n",
    "avg_male_total"
   ]
  },
  {
   "cell_type": "code",
   "execution_count": 22,
   "metadata": {},
   "outputs": [
    {
     "data": {
      "text/plain": [
       "4.53"
      ]
     },
     "execution_count": 22,
     "metadata": {},
     "output_type": "execute_result"
    }
   ],
   "source": [
    "#purchasing analysis of females\n",
    "female_purchasecount = id_index.loc[\"Female\", \"Purchase ID\"].count()\n",
    "#female_purchasecount\n",
    "\n",
    "female_avgpurchaseprice = round(id_index.loc[\"Female\", \"Price\"].mean(),2)\n",
    "#female_avgpurchaseprice\n",
    "\n",
    "female_total = id_index.loc[\"Female\", \"Price\"].sum()\n",
    "#female_total\n",
    "\n",
    "avg_female_total = round((female_total/female_count),2)\n",
    "avg_female_total"
   ]
  },
  {
   "cell_type": "code",
   "execution_count": 23,
   "metadata": {},
   "outputs": [
    {
     "data": {
      "text/plain": [
       "4.56"
      ]
     },
     "execution_count": 23,
     "metadata": {},
     "output_type": "execute_result"
    }
   ],
   "source": [
    "#purchasing analysis of other/non-disclosed\n",
    "other_purchasecount = id_index.loc[\"Other / Non-Disclosed\", \"Purchase ID\"].count()\n",
    "#other_purchasecount\n",
    "\n",
    "other_avgpurchaseprice = round(id_index.loc[\"Other / Non-Disclosed\", \"Price\"].mean(),2)\n",
    "#other_avgpurchaseprice\n",
    "\n",
    "other_total = id_index.loc[\"Other / Non-Disclosed\", \"Price\"].sum()\n",
    "#other_total\n",
    "\n",
    "avg_other_total = round((other_total/other_count),2)\n",
    "avg_other_total"
   ]
  },
  {
   "cell_type": "code",
   "execution_count": 24,
   "metadata": {},
   "outputs": [
    {
     "data": {
      "text/html": [
       "<style  type=\"text/css\" >\n",
       "</style>  \n",
       "<table id=\"T_9f61f348_754c_11ea_a224_240a641cf6e6\" > \n",
       "<thead>    <tr> \n",
       "        <th class=\"blank level0\" ></th> \n",
       "        <th class=\"col_heading level0 col0\" >Purchase Count</th> \n",
       "        <th class=\"col_heading level0 col1\" >Average Purchase Price</th> \n",
       "        <th class=\"col_heading level0 col2\" >Total Purchase Value</th> \n",
       "        <th class=\"col_heading level0 col3\" >Average Purchase Total per Person</th> \n",
       "    </tr></thead> \n",
       "<tbody>    <tr> \n",
       "        <th id=\"T_9f61f348_754c_11ea_a224_240a641cf6e6level0_row0\" class=\"row_heading level0 row0\" >Male</th> \n",
       "        <td id=\"T_9f61f348_754c_11ea_a224_240a641cf6e6row0_col0\" class=\"data row0 col0\" >657</td> \n",
       "        <td id=\"T_9f61f348_754c_11ea_a224_240a641cf6e6row0_col1\" class=\"data row0 col1\" >$3.02</td> \n",
       "        <td id=\"T_9f61f348_754c_11ea_a224_240a641cf6e6row0_col2\" class=\"data row0 col2\" >1982.64</td> \n",
       "        <td id=\"T_9f61f348_754c_11ea_a224_240a641cf6e6row0_col3\" class=\"data row0 col3\" >$4.10</td> \n",
       "    </tr>    <tr> \n",
       "        <th id=\"T_9f61f348_754c_11ea_a224_240a641cf6e6level0_row1\" class=\"row_heading level0 row1\" >Female</th> \n",
       "        <td id=\"T_9f61f348_754c_11ea_a224_240a641cf6e6row1_col0\" class=\"data row1 col0\" >115</td> \n",
       "        <td id=\"T_9f61f348_754c_11ea_a224_240a641cf6e6row1_col1\" class=\"data row1 col1\" >$3.19</td> \n",
       "        <td id=\"T_9f61f348_754c_11ea_a224_240a641cf6e6row1_col2\" class=\"data row1 col2\" >366.94</td> \n",
       "        <td id=\"T_9f61f348_754c_11ea_a224_240a641cf6e6row1_col3\" class=\"data row1 col3\" >$4.53</td> \n",
       "    </tr>    <tr> \n",
       "        <th id=\"T_9f61f348_754c_11ea_a224_240a641cf6e6level0_row2\" class=\"row_heading level0 row2\" >Other / Non-Disclosed</th> \n",
       "        <td id=\"T_9f61f348_754c_11ea_a224_240a641cf6e6row2_col0\" class=\"data row2 col0\" >15</td> \n",
       "        <td id=\"T_9f61f348_754c_11ea_a224_240a641cf6e6row2_col1\" class=\"data row2 col1\" >$3.35</td> \n",
       "        <td id=\"T_9f61f348_754c_11ea_a224_240a641cf6e6row2_col2\" class=\"data row2 col2\" >50.19</td> \n",
       "        <td id=\"T_9f61f348_754c_11ea_a224_240a641cf6e6row2_col3\" class=\"data row2 col3\" >$4.56</td> \n",
       "    </tr></tbody> \n",
       "</table> "
      ],
      "text/plain": [
       "<pandas.io.formats.style.Styler at 0x2568f4159b0>"
      ]
     },
     "execution_count": 24,
     "metadata": {},
     "output_type": "execute_result"
    }
   ],
   "source": [
    "purchasing_analysis_df = pd.DataFrame(\n",
    "    data = {'Purchase Count': [male_purchasecount, female_purchasecount, other_purchasecount],\n",
    "           'Average Purchase Price': [male_avgpurchaseprice,female_avgpurchaseprice, other_avgpurchaseprice],\n",
    "           'Total Purchase Value': [male_total,female_total,other_total],\n",
    "           'Average Purchase Total per Person': [avg_male_total,avg_female_total,avg_other_total]},\n",
    "    index = ['Male', 'Female', 'Other / Non-Disclosed'])\n",
    "\n",
    "purchasing_analysis_df.style.format({'Average Purchase Value':'${:,.2f}',\n",
    "                                     'Average Purchase Price':'${:,.2f}',\n",
    "                                     'Average Purchase Total per Person':'${:,.2f}'})"
   ]
  },
  {
   "cell_type": "markdown",
   "metadata": {},
   "source": [
    "## Age Demographics\n",
    "\n",
    "* The below each broken into bins of 4 years (i.e. <10, 10-14, 15-19, etc.)\n",
    "  * Purchase Count\n",
    "  * Average Purchase Price\n",
    "  * Total Purchase Value\n",
    "  * Average Purchase Total per Person by Age Group"
   ]
  },
  {
   "cell_type": "code",
   "execution_count": null,
   "metadata": {},
   "outputs": [],
   "source": []
  }
 ],
 "metadata": {
  "kernelspec": {
   "display_name": "Python 3",
   "language": "python",
   "name": "python3"
  },
  "language_info": {
   "codemirror_mode": {
    "name": "ipython",
    "version": 3
   },
   "file_extension": ".py",
   "mimetype": "text/x-python",
   "name": "python",
   "nbconvert_exporter": "python",
   "pygments_lexer": "ipython3",
   "version": "3.6.5"
  }
 },
 "nbformat": 4,
 "nbformat_minor": 2
}
